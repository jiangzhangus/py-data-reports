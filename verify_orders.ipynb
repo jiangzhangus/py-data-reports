{
 "cells": [
  {
   "cell_type": "code",
   "execution_count": 1,
   "metadata": {},
   "outputs": [],
   "source": [
    "import csv\n",
    "import json"
   ]
  },
  {
   "cell_type": "code",
   "execution_count": 6,
   "metadata": {},
   "outputs": [
    {
     "name": "stdout",
     "output_type": "stream",
     "text": [
      "total items loaded: 40\n",
      "cenaceled 7\n",
      "performed 33\n",
      "------ order list -----------\n",
      "d996ca3c-d331-4149-ba1e-d3f1e242d61a\n",
      "HORD79609383\n",
      "HORD1093CB28\n",
      "HORD40225BC0\n",
      "HORD1A5D8BDD\n",
      "HORD334D2514\n",
      "HORD30360318\n",
      "HORD481A68B4\n",
      "HORD02413BD8\n",
      "HORD2F6F799B\n",
      "HORD130B17FD\n",
      "HORD7EACC59D\n",
      "HORD2A9F9833\n",
      "HORD05EA152B\n",
      "HORD7A94234A\n",
      "HORD4FA93215\n",
      "HORD0D5D4485\n",
      "HORD3C3B5A20\n",
      "HORD7E247AED\n",
      "HORD4C58B890\n",
      "HORD5D0C1AAE\n",
      "HORD40FB2687\n",
      "HORD1D6A71A5\n",
      "HORD6AF71436\n",
      "HORD46086C0F\n",
      "HORD7F9F2750\n",
      "HORD49E149F5\n",
      "HORD062101C4\n",
      "HORD309A7118\n",
      "HORD41C2204A\n",
      "HORD6BD016FE\n",
      "HORD6D8D7572\n",
      "HORD05DC5D9D\n",
      "---- caceled orders ------ \n",
      "HORD5F44448C\n",
      "HORD3500FEFB\n",
      "HORD09B5879A\n",
      "HORD25E8BD50\n",
      "HORD2722F552\n",
      "HORD0D9365EA\n",
      "HORD1914081D\n"
     ]
    }
   ],
   "source": [
    "list_file_from_postman = 'order_list_3ad0f21e-8a36-4688-893c-a06fdc67cc83.json'\n",
    "with open(list_file_from_postman, \"rt\", newline='', encoding='utf-8') as csv_file:\n",
    "    #csv_reader = csv.reader(csv_file, delimiter=',')\n",
    "    performed_list = []\n",
    "    cancelled_list = []\n",
    "\n",
    "    json_file_content = json.load(csv_file)\n",
    "    print(f\"total items loaded: {len(json_file_content)}\")\n",
    "    for one_item in json_file_content:\n",
    "        if one_item[\"order_status\"] == \"cancelled\":\n",
    "            cancelled_list.append(one_item)\n",
    "        else:\n",
    "            performed_list.append(one_item)\n",
    "    \n",
    "    print(f\"cenaceled {len(cancelled_list)}\")\n",
    "    print(f\"performed {len(performed_list)}\")\n",
    "    print(\"------ order list -----------\")\n",
    "    for one in performed_list:\n",
    "        order_ref = one[\"hli_order_reference\"]\n",
    "        print(order_ref)\n",
    "\n",
    "    print(\"---- caceled orders ------ \")\n",
    "    for one in cancelled_list:\n",
    "        order_ref = one[\"hli_order_reference\"]\n",
    "        print(order_ref)"
   ]
  },
  {
   "cell_type": "code",
   "execution_count": null,
   "metadata": {},
   "outputs": [],
   "source": [
    "    "
   ]
  }
 ],
 "metadata": {
  "kernelspec": {
   "display_name": "venv",
   "language": "python",
   "name": "python3"
  },
  "language_info": {
   "codemirror_mode": {
    "name": "ipython",
    "version": 3
   },
   "file_extension": ".py",
   "mimetype": "text/x-python",
   "name": "python",
   "nbconvert_exporter": "python",
   "pygments_lexer": "ipython3",
   "version": "3.11.4"
  },
  "orig_nbformat": 4
 },
 "nbformat": 4,
 "nbformat_minor": 2
}
